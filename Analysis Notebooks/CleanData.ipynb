{
 "cells": [
  {
   "cell_type": "code",
   "execution_count": 3,
   "metadata": {},
   "outputs": [],
   "source": [
    "# Cleaning the original csv dataset from Kaggle.\n",
    "# Focus on defensive stats & salary."
   ]
  },
  {
   "cell_type": "code",
   "execution_count": 4,
   "metadata": {},
   "outputs": [],
   "source": [
    "import os"
   ]
  },
  {
   "cell_type": "code",
   "execution_count": 5,
   "metadata": {},
   "outputs": [],
   "source": [
    "import pandas as pd\n",
    "import numpy as np\n",
    "import matplotlib.pyplot as plt\n",
    "from matplotlib import style\n",
    "import seaborn as sns"
   ]
  },
  {
   "cell_type": "code",
   "execution_count": 6,
   "metadata": {},
   "outputs": [],
   "source": [
    "ONE_SEASON_DIR = '../Dataset/nba_2017_nba_players_with_salary.csv'\n",
    "THIRTY_TWO_SEASONS_DIR = '../Dataset/Seasons_Stats.csv'"
   ]
  },
  {
   "cell_type": "code",
   "execution_count": 32,
   "metadata": {},
   "outputs": [],
   "source": [
    "#cleaning csv file for 2017 nba season players to only include defensive stats\n",
    "df = pd.read_csv(ONE_SEASON_DIR)\n",
    "df.head()\n",
    "to_drop = ['Unnamed: 0','FG', 'FGA','FG%','3P','3PA','3P%','2P','2PA','2P%','eFG%','FT','FTA',\n",
    "           'FT%','TOV','POINTS','MPG','ORB','ORPM','TRB','RPM','PIE','PACE','W','WINS_RPM','Rk','AST']\n",
    "df.drop(to_drop, inplace=True, axis=1)\n",
    "df.head()\n",
    "df.to_csv(r'../Dataset/updated_2017_stats.csv', header=True)"
   ]
  },
  {
   "cell_type": "code",
   "execution_count": 43,
   "metadata": {},
   "outputs": [],
   "source": [
    "#cleaning csv file with nba players from 1950 to 2017 to only include players from 1985 to 2017 and defensive stats\n",
    "df = pd.read_csv(THIRTY_TWO_SEASONS_DIR)\n",
    "df.head()\n",
    "to_drop = ['Unnamed: 0','PER','TS%','3PAr','FTr','ORB%','TRB%','AST%','STL%','TOV%','USG%','blanl',\n",
    "          'OWS','WS','WS/48','blank2','OBPM','BPM','VORP','FG','FGA','FG%','3P','3PA','3P%','2P',\n",
    "          '2PA','2P%','eFG%','FT','FTA','FT%','ORB','TRB','AST','TOV','PTS']\n",
    "df.drop(to_drop, inplace=True, axis=1)\n",
    "df.rename({\"Tm\":\"Team\"}, inplace = True, axis=1)\n",
    "i = 1950.0\n",
    "while i < 1985.0:\n",
    "    df = df[df.Year != i]\n",
    "    i = i + 1.0\n",
    "df.dropna(subset=['Player'], inplace=True)\n",
    "df.head()\n",
    "df.to_csv(r'../Dataset/updated_1985-2017_stats.csv', header=True)"
   ]
  },
  {
   "cell_type": "code",
   "execution_count": null,
   "metadata": {},
   "outputs": [],
   "source": []
  }
 ],
 "metadata": {
  "kernelspec": {
   "display_name": "Python 3",
   "language": "python",
   "name": "python3"
  },
  "language_info": {
   "codemirror_mode": {
    "name": "ipython",
    "version": 3
   },
   "file_extension": ".py",
   "mimetype": "text/x-python",
   "name": "python",
   "nbconvert_exporter": "python",
   "pygments_lexer": "ipython3",
   "version": "3.7.4"
  }
 },
 "nbformat": 4,
 "nbformat_minor": 4
}
